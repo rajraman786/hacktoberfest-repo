{
 "cells": [
  {
   "cell_type": "code",
   "execution_count": null,
   "metadata": {},
   "outputs": [],
   "source": [
    "while True:\n",
    "  print('Hello World')"
   ]
  },
  {
   "cell_type": "code",
   "execution_count": 1,
   "metadata": {},
   "outputs": [
    {
     "name": "stdout",
     "output_type": "stream",
     "text": [
      "Hello\n"
     ]
    }
   ],
   "source": [
    "\n",
    "flag = 'y'\n",
    "while flag == 'y':\n",
    "  print(\"Hello\")\n",
    "  flag = input('Enter a character other than y to stop')"
   ]
  },
  {
   "cell_type": "code",
   "execution_count": null,
   "metadata": {},
   "outputs": [],
   "source": [
    "flag = 'y'\n",
    "while flag == 'Y' or flag == 'y' or flag == 'Yes' or flag == 'YES' or flag == 'yes':\n",
    "  print(\"Hello\")\n",
    "  flag = input('Enter a character other than y to stop')"
   ]
  },
  {
   "cell_type": "code",
   "execution_count": null,
   "metadata": {},
   "outputs": [],
   "source": [
    "flag = 'y'\n",
    "while flag.lower() == 'y' or flag.lower() == 'yes' :\n",
    "  print(\"Hello\")\n",
    "  flag = input('Enter a character other than y to stop')"
   ]
  },
  {
   "cell_type": "code",
   "execution_count": null,
   "metadata": {},
   "outputs": [],
   "source": [
    "counter = 1\n",
    "\n",
    "while counter <= 10:\n",
    "  print(counter)\n",
    " # counter = counter + 1\n",
    "  counter += 1"
   ]
  },
  {
   "cell_type": "code",
   "execution_count": null,
   "metadata": {},
   "outputs": [],
   "source": [
    "counter = 1\n",
    "sum = 0\n",
    "\n",
    "while counter <= 10:\n",
    "  print(counter)\n",
    "  sum = sum + counter\n",
    "  counter += 1\n",
    "\n",
    "print(f'Sum is {sum}')  "
   ]
  },
  {
   "cell_type": "code",
   "execution_count": null,
   "metadata": {},
   "outputs": [],
   "source": [
    "# This program simulates the rolling of dice.\n",
    "import random\n",
    "\n",
    "# Constants for the minimum and maximum random numbers\n",
    "MIN = 1\n",
    "MAX = 6\n",
    "\n",
    "\n",
    "# Create a variable to control the loop.\n",
    "again = 'y'\n",
    "\n",
    "# Simulate rolling the dice.\n",
    "while again == 'y' or again == 'Y':\n",
    "    print('Rolling the dice...')\n",
    "    print('Their values are:')\n",
    "    print(random.randint(MIN, MAX))\n",
    "    print(random.randint(MIN, MAX))\n",
    "\n",
    "    # Do another roll of the dice?\n",
    "    again = input('Roll them again? (y = yes): ')\n",
    "\n"
   ]
  },
  {
   "cell_type": "code",
   "execution_count": null,
   "metadata": {},
   "outputs": [],
   "source": [
    "#Even Numbers\n",
    "\n",
    "counter = 0\n",
    "sum = 0\n",
    "\n",
    "while counter <= 10:\n",
    "  print(counter)\n",
    "  sum = sum + counter\n",
    "  counter += 2\n",
    "\n",
    "print(f'Sum is {sum}')  "
   ]
  },
  {
   "cell_type": "code",
   "execution_count": null,
   "metadata": {},
   "outputs": [],
   "source": [
    "#Odd Numbers\n",
    "\n",
    "counter = 1\n",
    "sum = 0\n",
    "\n",
    "while counter <= 10:\n",
    "  print(counter)\n",
    "  sum = sum + counter\n",
    "  counter += 2\n",
    "\n",
    "print(f'Sum is {sum}') "
   ]
  },
  {
   "cell_type": "code",
   "execution_count": null,
   "metadata": {},
   "outputs": [],
   "source": [
    "import random\n",
    "computerNumber = random.randint(1, 5)\n",
    "\n",
    "print(computerNumber)\n",
    "\n",
    "userNumber = int(input(\"Guess the number computer thought?\"))\n",
    "\n",
    "\n",
    "if userNumber > computerNumber:\n",
    "    print(\"Your guess is too high\")\n",
    "elif  userNumber < computerNumber:\n",
    "    print(\"Your guess is too low\")\n",
    "else:\n",
    "    print(\"Your guessed it correctly\")     \n"
   ]
  },
  {
   "cell_type": "code",
   "execution_count": null,
   "metadata": {},
   "outputs": [],
   "source": [
    "import random\n",
    "computerNumber = random.randint(1, 50)\n",
    "\n",
    "print(computerNumber)\n",
    "\n",
    "userNumber = int(input(\"Guess the number computer thought?\"))\n",
    "\n",
    "while userNumber!= computerNumber:\n",
    "\n",
    "  if userNumber > computerNumber:\n",
    "    print(\"Your guess is too high\")\n",
    "  elif  userNumber < computerNumber:\n",
    "    print(\"Your guess is too low\")\n",
    "      \n",
    "  userNumber = int(input(\"Guess the number computer thought?\"))\n",
    "\n",
    "print(f'You guessed it correctly, the number is {userNumber}')"
   ]
  },
  {
   "cell_type": "code",
   "execution_count": null,
   "metadata": {},
   "outputs": [],
   "source": [
    "import random\n",
    "computerNumber = random.randint(1, 50)\n",
    "\n",
    "lives = 3\n",
    "counter = 0\n",
    "\n",
    "print(computerNumber)\n",
    "\n",
    "userNumber = int(input(\"Guess the number computer thought?\"))\n",
    "\n",
    "while counter < lives:\n",
    "\n",
    "  counter += 1 \n",
    "\n",
    "  if userNumber > computerNumber:\n",
    "    print(\"Your guess is too high\")\n",
    "  elif  userNumber < computerNumber:\n",
    "    print(\"Your guess is too low\")\n",
    "  else:\n",
    "    print(f\"Your guessed it correctly in {counter} chances, the numbers is {userNumber}\") \n",
    "    break\n",
    "\n",
    "     \n",
    "      \n",
    "  userNumber = int(input(\"Guess the number computer thought?\"))\n",
    "\n"
   ]
  },
  {
   "cell_type": "code",
   "execution_count": null,
   "metadata": {},
   "outputs": [],
   "source": [
    "import random\n",
    "\n",
    "play_again = 'y'\n",
    "\n",
    "while play_again.lower() == 'y':\n",
    "    \n",
    "    user_action = input(\"Enter a choice (rock, paper, scissors): \")\n",
    "    possible_actions = [\"rock\", \"paper\", \"scissors\"]\n",
    "    computer_action = random.choice(possible_actions)\n",
    "    print(f\"\\nYou chose {user_action}, computer chose {computer_action}.\\n\")\n",
    "\n",
    "    if user_action == computer_action:\n",
    "        print(f\"Both players selected {user_action}. It's a tie!\")\n",
    "    elif user_action == \"rock\":\n",
    "        if computer_action == \"scissors\":\n",
    "            print(\"Rock smashes scissors! You win!\")\n",
    "        else:\n",
    "            print(\"Paper covers rock! You lose.\")\n",
    "    elif user_action == \"paper\":\n",
    "        if computer_action == \"rock\":\n",
    "            print(\"Paper covers rock! You win!\")\n",
    "        else:\n",
    "            print(\"Scissors cuts paper! You lose.\")\n",
    "    elif user_action == \"scissors\":\n",
    "        if computer_action == \"paper\":\n",
    "            print(\"Scissors cuts paper! You win!\")\n",
    "        else:\n",
    "            print(\"Rock smashes scissors! You lose.\")\n",
    "\n",
    "    play_again = input(\"Play again? (y/n): \")\n",
    "    "
   ]
  },
  {
   "cell_type": "code",
   "execution_count": null,
   "metadata": {},
   "outputs": [],
   "source": [
    "# This program calculates sales commissions.\n",
    "\n",
    "# Create a variable to control the loop.\n",
    "keep_going = 'y'\n",
    "\n",
    "# Calculate a series of commissions.\n",
    "while keep_going == 'y':\n",
    "    # Get a salesperson's sales and commission rate.\n",
    "    sales = float(input('Enter the amount of sales: '))\n",
    "    comm_rate = float(input('Enter the commission rate: '))\n",
    "\n",
    "    # Calculate the commission.\n",
    "    commission = sales * comm_rate\n",
    "\n",
    "    # Display the commission.\n",
    "    print(f'The commission is ${commission:,.2f}.')\n",
    "\n",
    "    # See if the user wants to do another one.\n",
    "    keep_going = input('Do you want to calculate another ' +\n",
    "                       'commission (Enter y for yes): ')\n"
   ]
  },
  {
   "cell_type": "code",
   "execution_count": null,
   "metadata": {},
   "outputs": [],
   "source": [
    "# This program calculates sales commissions with Input Validation\n",
    "\n",
    "# Create a variable to control the loop.\n",
    "keep_going = 'y'\n",
    "\n",
    "# Calculate a series of commissions.\n",
    "while keep_going == 'y':\n",
    "    # Get a salesperson's sales and commission rate.\n",
    "    sales = float(input('Enter the amount of sales: '))\n",
    "    print(f\"the amount of sales: {sales}\")\n",
    "\n",
    "    comm_rate = float(input('Enter the commission rate: '))    \n",
    "    print(f\"the commission on sales is : {comm_rate}\")\n",
    "\n",
    "    # Input Validationgjgjk\n",
    "    # Validate the sales cost.\n",
    "    while sales < 0:\n",
    "        print('ERROR: the sales cannot be negative.')\n",
    "        sales = float(input('Enter the correct sales : '))\n",
    "        print(f\"the correct sales is: {sales}\")\n",
    "\n",
    "         # Validate the sales cost.\n",
    "    while comm_rate < 0 or comm_rate > 1:\n",
    "        print('ERROR: the commission rate cannot be negative or greater than 1.')\n",
    "        comm_rate = float(input('Enter the correct commission rate: '))\n",
    "        print(f\"the correct commission on sales is : {comm_rate}\")\n",
    "\n",
    "    # Calculate the commission.\n",
    "    commission = sales * comm_rate\n",
    "\n",
    "    # Display the commission.\n",
    "    print(f'The commission is ${commission:,.2f}.')\n",
    "\n",
    "    # See if the user wants to do another one.\n",
    "    keep_going = input('Do you want to calculate another ' +\n",
    "                       'commission (Enter y for yes): ')\n"
   ]
  },
  {
   "cell_type": "code",
   "execution_count": null,
   "metadata": {},
   "outputs": [],
   "source": [
    "#Sum the digits of a given positive integer number\n",
    "\n",
    "number = int(input('Enter the number for which you want to sum its digits'))\n",
    "sum = 0\n",
    "quotient = number\n",
    "\n",
    "while quotient != 0:\n",
    "  remainder  = quotient % 10\n",
    "  quotient = quotient//10\n",
    "  \n",
    "  sum = sum + remainder\n",
    "\n",
    "print(sum)  "
   ]
  },
  {
   "cell_type": "code",
   "execution_count": null,
   "metadata": {},
   "outputs": [],
   "source": [
    "# Reverse the number\n",
    "\n",
    "\n",
    "number = int(input('Enter the number for which you want to sum its digits'))\n",
    "reverseNumber = 0\n",
    "quotient = number\n",
    "\n",
    "while quotient != 0:\n",
    "  remainder  = quotient % 10\n",
    "  quotient = quotient//10\n",
    "  \n",
    "  reverseNumber = reverseNumber*10 + remainder\n",
    "\n",
    "print(reverseNumber)  \n"
   ]
  }
 ],
 "metadata": {
  "interpreter": {
   "hash": "7b8c3342de49485c38dd1103809a636c7ad704d5de17080a370f79d9a1364edc"
  },
  "kernelspec": {
   "display_name": "Python 3.10.0 64-bit",
   "name": "python3"
  },
  "language_info": {
   "codemirror_mode": {
    "name": "ipython",
    "version": 3
   },
   "file_extension": ".py",
   "mimetype": "text/x-python",
   "name": "python",
   "nbconvert_exporter": "python",
   "pygments_lexer": "ipython3",
   "version": "3.10.1"
  },
  "orig_nbformat": 4
 },
 "nbformat": 4,
 "nbformat_minor": 2
}
