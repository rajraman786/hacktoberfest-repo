{
 "cells": [
  {
   "cell_type": "code",
   "execution_count": null,
   "metadata": {
    "colab": {
     "base_uri": "https://localhost:8080/"
    },
    "id": "6WwIT9Hpc3LG",
    "outputId": "f29ee6f6-a262-429c-8d98-c97180ad1b64"
   },
   "outputs": [],
   "source": [
    "'''\n",
    "Using the range() Function\n",
    "\n",
    "Python’s range() function makes it easy to generate a series of numbers.\n",
    "For example, you can use the range() function to print a series of numbers\n",
    "like this:\n",
    "'''\n",
    "for value in range(11):\n",
    "  print(value)\n",
    "  "
   ]
  },
  {
   "cell_type": "code",
   "execution_count": null,
   "metadata": {
    "colab": {
     "base_uri": "https://localhost:8080/"
    },
    "id": "ZWYMZ7sEc3H3",
    "outputId": "4490151e-d21b-4090-fe1e-dfc53138335f"
   },
   "outputs": [],
   "source": [
    "for value in range(1, 5):\n",
    "  print(value)"
   ]
  },
  {
   "cell_type": "code",
   "execution_count": null,
   "metadata": {
    "colab": {
     "base_uri": "https://localhost:8080/"
    },
    "id": "YTxt8btwc3FR",
    "outputId": "f285aac0-ddd9-4355-be21-e4e920f9d2b9"
   },
   "outputs": [],
   "source": [
    "#print odd number till 10\n",
    "\n",
    "'''\n",
    "Three arguments are passed to the range function:\n",
    "• The first argument, 1, is the starting value for the sequence.\n",
    "• The second argument, 10, is the ending limit of the list. This means that the last number\n",
    "in the sequence will be 9.\n",
    "• The third argument, 2, is the step value. This means that 2 will be added to each successive\n",
    "number in the sequence.\n",
    "\n",
    "'''\n",
    "for value in range(1, 10, 2):\n",
    "  print(value)"
   ]
  },
  {
   "cell_type": "code",
   "execution_count": null,
   "metadata": {
    "colab": {
     "base_uri": "https://localhost:8080/"
    },
    "id": "q0wjL-hEc3Ck",
    "outputId": "ffec87ca-39d3-4ead-be2a-5b3dc928ebc1"
   },
   "outputs": [],
   "source": [
    "#print even number till 10\n",
    "for value in range(0, 10, 2):\n",
    "  print(value)"
   ]
  },
  {
   "cell_type": "code",
   "execution_count": null,
   "metadata": {},
   "outputs": [],
   "source": [
    "#print even number till 10\n",
    "for value in range(0, 11, 2):\n",
    "  print(value)"
   ]
  },
  {
   "cell_type": "code",
   "execution_count": null,
   "metadata": {
    "colab": {
     "base_uri": "https://localhost:8080/"
    },
    "id": "oZojPC1wc2_t",
    "outputId": "464d739f-f310-470c-831e-407b2f8eb673"
   },
   "outputs": [],
   "source": [
    "#print even number till 100 in gap of 10\n",
    "for value in range(0, 101, 10):\n",
    "  print(value)"
   ]
  },
  {
   "cell_type": "code",
   "execution_count": null,
   "metadata": {},
   "outputs": [],
   "source": [
    "for value in range(5, -1, -1):\n",
    "    print(value)"
   ]
  },
  {
   "cell_type": "code",
   "execution_count": null,
   "metadata": {},
   "outputs": [],
   "source": []
  },
  {
   "cell_type": "code",
   "execution_count": null,
   "metadata": {
    "colab": {
     "base_uri": "https://localhost:8080/"
    },
    "id": "fZT46XFk_g6J",
    "outputId": "af0c7cd7-3bc6-4a53-9a10-19f986116c36"
   },
   "outputs": [],
   "source": [
    "for i in range(1,3):\n",
    " for j in range(1,3):\n",
    "   print('Twinkle')\n",
    " print('Little Star') \n",
    " print('\\n')"
   ]
  },
  {
   "cell_type": "code",
   "execution_count": null,
   "metadata": {},
   "outputs": [],
   "source": [
    "#1 + 2 + 3 ...+ 10 = \n",
    "\n",
    "sum = 0\n",
    "\n",
    "for i in range(1, 11):\n",
    "  print(i)\n",
    "  sum = sum + i\n",
    "\n",
    "print(f\"sum is {sum}\")  "
   ]
  },
  {
   "cell_type": "code",
   "execution_count": null,
   "metadata": {},
   "outputs": [],
   "source": [
    "#1 + 3 + 5 ...+ 9 = \n",
    "\n",
    "sum = 0\n",
    "\n",
    "for i in range(1, 11, 2):\n",
    "    print(i)\n",
    "    sum = sum + i\n",
    "\n",
    "print(f\"sum is {sum}\")  "
   ]
  },
  {
   "cell_type": "code",
   "execution_count": null,
   "metadata": {},
   "outputs": [],
   "source": [
    "#0 + 2 + 4 ...+ 10 = \n",
    "\n",
    "sum = 0\n",
    "\n",
    "for i in range(0, 11, 2):\n",
    "    print(i)\n",
    "    sum = sum + i\n",
    "\n",
    "print(f\"sum is {sum}\")  "
   ]
  },
  {
   "cell_type": "code",
   "execution_count": null,
   "metadata": {},
   "outputs": [],
   "source": [
    "# Find the factors of a number\n",
    "number = int(input('Enter the number for which you want to find factors'))\n",
    "\n",
    "for i in range(1, number+1):\n",
    "  if number%i == 0:\n",
    "    print(f'{i} is a factor of {number}')"
   ]
  },
  {
   "cell_type": "code",
   "execution_count": null,
   "metadata": {},
   "outputs": [],
   "source": [
    "'''\n",
    "Number & Squares\n",
    "'''\n",
    "\n",
    "# Print the table headings.\n",
    "print('Number\\tSquare')\n",
    "print('--------------')\n",
    "\n",
    "# Print the numbers 1 through 10\n",
    "# and their squares.\n",
    "for number in range(1, 11):\n",
    "    square = number**2\n",
    "    print(f'{number}\\t{square}')"
   ]
  },
  {
   "cell_type": "code",
   "execution_count": null,
   "metadata": {},
   "outputs": [],
   "source": [
    "# This program simulates 10 tosses of a coin.\n",
    "import random\n",
    "\n",
    "# Constants\n",
    "HEADS = 1\n",
    "TAILS = 2\n",
    "TOSSES = 10\n",
    "\n",
    "for toss in range(TOSSES):\n",
    "    # Simulate the coin toss.\n",
    "    if random.randint(HEADS, TAILS) == HEADS:\n",
    "        print('Heads')\n",
    "    else:\n",
    "        print('Tails')"
   ]
  },
  {
   "cell_type": "code",
   "execution_count": null,
   "metadata": {},
   "outputs": [],
   "source": [
    "# This program uses a loop to display a\n",
    "# table of numbers and their squares.\n",
    "\n",
    "# Get the ending limit.\n",
    "print('This program displays a list of numbers')\n",
    "print('(starting at 1) and their squares.')\n",
    "end = int(input('How high should I go? '))\n",
    "    \n",
    "# Print the table headings.\n",
    "print()\n",
    "print('Number\\tSquare')\n",
    "print('--------------')\n",
    "\n",
    "# Print the numbers and their squares.\n",
    "for number in range(1, end + 1):\n",
    "    square = number**2\n",
    "    print(f'{number}\\t{square}')"
   ]
  },
  {
   "cell_type": "code",
   "execution_count": null,
   "metadata": {},
   "outputs": [],
   "source": [
    "# This program converts the speeds 60 kph\n",
    "# through 130 kph (in 10 kph increments)\n",
    "# to mph.\n",
    "\n",
    "start_speed = 60            # Starting speed\n",
    "end_speed = 131             # Ending speed\n",
    "increment = 10              # Speed increment\n",
    "conversion_factor = 0.6214  # Conversion factor\n",
    "\n",
    "# Print the table headings.\n",
    "print('KPH\\tMPH')\n",
    "print('--------------')\n",
    "\n",
    "# Print the speeds.\n",
    "for kph in range(start_speed, end_speed, increment):\n",
    "    mph = kph * conversion_factor\n",
    "    print(f'{kph}\\t{mph:.1f}')"
   ]
  },
  {
   "cell_type": "code",
   "execution_count": null,
   "metadata": {},
   "outputs": [],
   "source": [
    "'''\n",
    " A B C\n",
    "\n",
    " A C B\n",
    "\n",
    " B A C\n",
    "\n",
    " B C A\n",
    "\n",
    " C A B\n",
    "\n",
    " C B A\n",
    "\n",
    " 3! = 3 X 2 X 1  = 6\n",
    "\n",
    "\n",
    " 5! = 5 X 4 X 3 X2 X1 =120\n",
    "\n",
    " '''\n",
    "\n",
    "factorial = 1\n",
    "\n",
    "for i in range (1, 5+1):\n",
    "   factorial = factorial*i\n",
    "\n",
    "print(f'factorial is {factorial}')  \n",
    "\n"
   ]
  },
  {
   "cell_type": "code",
   "execution_count": 1,
   "metadata": {},
   "outputs": [
    {
     "name": "stdout",
     "output_type": "stream",
     "text": [
      "Test number 1 - 90.0\n",
      "Test number 2 - 78.0\n",
      "Test number 3 - 89.0\n",
      "Test number 4 - 97.0\n",
      "Test number 5 - 85.0\n",
      "The average for student is: 87.8\n"
     ]
    }
   ],
   "source": [
    "# Get the number of test scores per student.\n",
    "num_test_scores = int(input('How many test scores per student? '))\n",
    "total = 0\n",
    "score = 0\n",
    "\n",
    "# Get the student's test scores.\n",
    "\n",
    "for test_num in range(num_test_scores):\n",
    "    \n",
    "    score = float(input('Enter the score of test '))\n",
    "    print(f'Test number {test_num + 1} - {score}')\n",
    "    # Add the score to the accumulator.\n",
    "    total += score\n",
    "\n",
    "# Calculate the average test score for this student.\n",
    "average = total / num_test_scores\n",
    "\n",
    " #Display the average.\n",
    "print(f'The average for student is: {average:.1f}')\n",
    "    "
   ]
  },
  {
   "cell_type": "code",
   "execution_count": null,
   "metadata": {},
   "outputs": [],
   "source": [
    "# Nested Loop\n",
    "\n",
    "# This program averages test scores. It asks the user for the\n",
    "# number of students and the number of test scores per student.\n",
    "\n",
    "# Get the number of students.\n",
    "num_students = int(input('How many students do you have? '))\n",
    "\n",
    "# Get the number of test scores per student.\n",
    "num_test_scores = int(input('How many test scores per student? '))\n",
    "\n",
    "# Determine each students average test score.\n",
    "for student in range(num_students):\n",
    "    # Initialize an accumulator for the test scores.\n",
    "    total = 0.0\n",
    "\n",
    "    # Display the student number.\n",
    "    print(f'Student number {student + 1}')\n",
    "    print('-----------------')\n",
    "\n",
    "    # Get the student's test scores.\n",
    "\n",
    "    for test_num in range(num_test_scores):\n",
    "        \n",
    "        score = float(input('Enter the score of test '))\n",
    "        print(f'Test number {test_num + 1} - {score}')\n",
    "        # Add the score to the accumulator.\n",
    "        total += score\n",
    "\n",
    "    # Calculate the average test score for this student.\n",
    "    average = total / num_test_scores\n",
    "\n",
    "    #Display the average.\n",
    "    print(f'The average for student is: {average:.1f}')\n",
    "\n",
    "    \n",
    "    print()"
   ]
  },
  {
   "cell_type": "code",
   "execution_count": 3,
   "metadata": {},
   "outputs": [
    {
     "name": "stdout",
     "output_type": "stream",
     "text": [
      "******"
     ]
    }
   ],
   "source": [
    "for col in range(6):\n",
    "    print('*', end='')"
   ]
  },
  {
   "cell_type": "code",
   "execution_count": null,
   "metadata": {},
   "outputs": [],
   "source": [
    "number = int(input(\"Enter the number to generate the table for.\"))\n",
    "\n",
    "for i in range (1, 11):\n",
    "  print(f'{number} X {i} = {number*i}')\n",
    "  "
   ]
  },
  {
   "cell_type": "code",
   "execution_count": 2,
   "metadata": {},
   "outputs": [
    {
     "name": "stdout",
     "output_type": "stream",
     "text": [
      "1 X 1 = 1\n",
      "1 X 2 = 2\n",
      "1 X 3 = 3\n",
      "1 X 4 = 4\n",
      "1 X 5 = 5\n",
      "1 X 6 = 6\n",
      "1 X 7 = 7\n",
      "1 X 8 = 8\n",
      "1 X 9 = 9\n",
      "1 X 10 = 10\n",
      "\n",
      "2 X 1 = 2\n",
      "2 X 2 = 4\n",
      "2 X 3 = 6\n",
      "2 X 4 = 8\n",
      "2 X 5 = 10\n",
      "2 X 6 = 12\n",
      "2 X 7 = 14\n",
      "2 X 8 = 16\n",
      "2 X 9 = 18\n",
      "2 X 10 = 20\n",
      "\n",
      "3 X 1 = 3\n",
      "3 X 2 = 6\n",
      "3 X 3 = 9\n",
      "3 X 4 = 12\n",
      "3 X 5 = 15\n",
      "3 X 6 = 18\n",
      "3 X 7 = 21\n",
      "3 X 8 = 24\n",
      "3 X 9 = 27\n",
      "3 X 10 = 30\n",
      "\n",
      "4 X 1 = 4\n",
      "4 X 2 = 8\n",
      "4 X 3 = 12\n",
      "4 X 4 = 16\n",
      "4 X 5 = 20\n",
      "4 X 6 = 24\n",
      "4 X 7 = 28\n",
      "4 X 8 = 32\n",
      "4 X 9 = 36\n",
      "4 X 10 = 40\n",
      "\n",
      "5 X 1 = 5\n",
      "5 X 2 = 10\n",
      "5 X 3 = 15\n",
      "5 X 4 = 20\n",
      "5 X 5 = 25\n",
      "5 X 6 = 30\n",
      "5 X 7 = 35\n",
      "5 X 8 = 40\n",
      "5 X 9 = 45\n",
      "5 X 10 = 50\n",
      "\n"
     ]
    }
   ],
   "source": [
    "number = int(input(\"Enter the number you want to generate tables upto\"))\n",
    "\n",
    "for i in range (1, number+1):\n",
    "  for j in range (1, 11):\n",
    "    print(f'{i} X {j} = {i*j}')\n",
    "  print()  "
   ]
  },
  {
   "cell_type": "code",
   "execution_count": 4,
   "metadata": {},
   "outputs": [
    {
     "name": "stdout",
     "output_type": "stream",
     "text": [
      "********\n",
      "********\n",
      "********\n",
      "********\n",
      "********\n"
     ]
    }
   ],
   "source": [
    "# This program displays a rectangular pattern\n",
    "# of asterisks.\n",
    "rows = int(input('How many rows? '))\n",
    "cols = int(input('How many columns? '))\n",
    "\n",
    "for r in range(rows):\n",
    "    for c in range(cols):\n",
    "        print('*', end='')\n",
    "    print()\n"
   ]
  },
  {
   "cell_type": "code",
   "execution_count": 5,
   "metadata": {},
   "outputs": [
    {
     "name": "stdout",
     "output_type": "stream",
     "text": [
      "*\n",
      "**\n",
      "***\n",
      "****\n",
      "*****\n"
     ]
    }
   ],
   "source": [
    "# This program displays a triangle pattern.\n",
    "base_size = 5\n",
    "\n",
    "for r in range(base_size):\n",
    "    for c in range(r + 1):\n",
    "        print('*', end='')\n",
    "    print()\n"
   ]
  },
  {
   "cell_type": "code",
   "execution_count": 6,
   "metadata": {},
   "outputs": [
    {
     "name": "stdout",
     "output_type": "stream",
     "text": [
      "#\n",
      " #\n",
      "  #\n",
      "   #\n",
      "    #\n"
     ]
    }
   ],
   "source": [
    "# This program displays a triangle pattern.\n",
    "base_size = 5\n",
    "\n",
    "for r in range(base_size):\n",
    "    for c in range(r):\n",
    "        print(' ', end='')\n",
    "    print('#')"
   ]
  },
  {
   "cell_type": "code",
   "execution_count": 1,
   "metadata": {},
   "outputs": [
    {
     "name": "stdout",
     "output_type": "stream",
     "text": [
      "1\n",
      "22\n",
      "333\n",
      "4444\n",
      "55555\n"
     ]
    }
   ],
   "source": [
    "# This program displays a triangle pattern.\n",
    "base_size = 5\n",
    "\n",
    "for r in range(1, base_size+1):\n",
    "    for c in range(1, r + 1):\n",
    "        print(r, end='')\n",
    "    print()"
   ]
  },
  {
   "cell_type": "code",
   "execution_count": 2,
   "metadata": {},
   "outputs": [
    {
     "name": "stdout",
     "output_type": "stream",
     "text": [
      "A \n",
      "A B \n",
      "A B C \n",
      "A B C D \n"
     ]
    }
   ],
   "source": [
    "k=65\n",
    "for i in range(1,5):\n",
    "    for j in range(i):\n",
    "        print(chr(k),end=\" \")\n",
    "        k=k+1\n",
    "    print()\n",
    "    k=65"
   ]
  },
  {
   "cell_type": "code",
   "execution_count": 3,
   "metadata": {},
   "outputs": [
    {
     "name": "stdout",
     "output_type": "stream",
     "text": [
      "1\n",
      "12\n",
      "123\n",
      "1234\n",
      "12345\n"
     ]
    }
   ],
   "source": [
    "# This program displays a triangle pattern.\n",
    "base_size = 5\n",
    "\n",
    "for r in range(1, base_size+1):\n",
    "    for c in range(1, r + 1):\n",
    "        print(c, end='')\n",
    "    print()"
   ]
  },
  {
   "cell_type": "code",
   "execution_count": 4,
   "metadata": {},
   "outputs": [
    {
     "name": "stdout",
     "output_type": "stream",
     "text": [
      "55555\n",
      "4444\n",
      "333\n",
      "22\n",
      "1\n",
      "\n"
     ]
    }
   ],
   "source": [
    "# This program displays a triangle pattern.\n",
    "base_size = 5\n",
    "\n",
    "for r in range(base_size, -1, -1):\n",
    "    for c in range(1, r + 1):\n",
    "        print(r, end='')\n",
    "    print()"
   ]
  },
  {
   "cell_type": "code",
   "execution_count": 5,
   "metadata": {},
   "outputs": [
    {
     "name": "stdout",
     "output_type": "stream",
     "text": [
      "54321\n",
      "4321\n",
      "321\n",
      "21\n",
      "1\n"
     ]
    }
   ],
   "source": [
    "# This program displays a triangle pattern.\n",
    "base_size = 5\n",
    "\n",
    "for r in range(base_size, 0, -1):\n",
    "    for c in range(r, 0, -1):\n",
    "        print(c, end='')\n",
    "    print()"
   ]
  },
  {
   "cell_type": "code",
   "execution_count": 6,
   "metadata": {
    "colab": {
     "base_uri": "https://localhost:8080/"
    },
    "id": "R5ubm5b9yKta",
    "outputId": "fa48fe0c-99be-4bae-c0f6-9a786e328c3d"
   },
   "outputs": [
    {
     "ename": "NameError",
     "evalue": "name 'n' is not defined",
     "output_type": "error",
     "traceback": [
      "\u001b[1;31m---------------------------------------------------------------------------\u001b[0m",
      "\u001b[1;31mNameError\u001b[0m                                 Traceback (most recent call last)",
      "Input \u001b[1;32mIn [6]\u001b[0m, in \u001b[0;36m<cell line: 1>\u001b[1;34m()\u001b[0m\n\u001b[1;32m----> 1\u001b[0m number \u001b[38;5;241m=\u001b[39m n\n\u001b[0;32m      3\u001b[0m isPrime \u001b[38;5;241m=\u001b[39m \u001b[38;5;241m1\u001b[39m\n\u001b[0;32m      4\u001b[0m \u001b[38;5;28;01mfor\u001b[39;00m i \u001b[38;5;129;01min\u001b[39;00m \u001b[38;5;28mrange\u001b[39m(\u001b[38;5;241m2\u001b[39m, n):\n",
      "\u001b[1;31mNameError\u001b[0m: name 'n' is not defined"
     ]
    }
   ],
   "source": [
    "number = n\n",
    "\n",
    "isPrime = 1\n",
    "for i in range(2, n):\n",
    "  if number%i==0:\n",
    "    isPrime = 0\n",
    "    break \n",
    "\n",
    "\n",
    "if isPrime == 1:\n",
    "  print('Its a prime number')\n",
    "else:\n",
    "  print('Its not a prime number')  \n",
    "  \n"
   ]
  },
  {
   "cell_type": "code",
   "execution_count": 9,
   "metadata": {},
   "outputs": [
    {
     "name": "stdout",
     "output_type": "stream",
     "text": [
      "It's not a prime number\n"
     ]
    }
   ],
   "source": [
    "primeNumber = int(input(\"Enter the number to be tested for prime?\"))\n",
    "\n",
    "isPrime = True\n",
    "for i in range(2, primeNumber):\n",
    "    if primeNumber % i == 0:\n",
    "        isPrime = False\n",
    "        break\n",
    "\n",
    "if isPrime == True:\n",
    "    print(\"It's a prime number\")    \n",
    "else:\n",
    "    print(\"It's not a prime number\")        \n",
    "\n",
    "\n",
    "\n",
    "\n",
    "\n",
    "\n",
    "\n"
   ]
  },
  {
   "cell_type": "code",
   "execution_count": 16,
   "metadata": {},
   "outputs": [
    {
     "name": "stdout",
     "output_type": "stream",
     "text": [
      "**********\n",
      "**********\n",
      "**********\n"
     ]
    }
   ],
   "source": [
    "'''\n",
    "**********\n",
    "**********\n",
    "**********\n",
    "'''\n",
    "\n",
    "for rows in range(3):\n",
    "    for columns in range(10):\n",
    "        print('*', end='')\n",
    "    print()    \n"
   ]
  },
  {
   "cell_type": "code",
   "execution_count": 4,
   "metadata": {},
   "outputs": [
    {
     "name": "stdout",
     "output_type": "stream",
     "text": [
      "A\n",
      "AA\n",
      "AAA\n",
      "AAAA\n",
      "AAAAA\n"
     ]
    }
   ],
   "source": [
    "'''\n",
    "*\n",
    "**\n",
    "***\n",
    "****\n",
    "*****\n",
    "\n",
    "'''\n",
    "\n",
    "\n",
    "for r in range(1, 6):\n",
    "    for n in range(r):\n",
    "        print('A', end='')\n",
    "    print()    \n",
    "\n"
   ]
  },
  {
   "cell_type": "code",
   "execution_count": 5,
   "metadata": {},
   "outputs": [
    {
     "name": "stdout",
     "output_type": "stream",
     "text": [
      "1\n",
      "22\n",
      "333\n",
      "4444\n",
      "55555\n"
     ]
    }
   ],
   "source": [
    "'''\n",
    "\n",
    "1 \n",
    "\n",
    "22 \n",
    "\n",
    "333 \n",
    "\n",
    "4444 \n",
    "\n",
    "55555\n",
    "\n",
    "'''\n",
    "\n",
    "\n",
    "for r in range(1, 6):\n",
    "    for n in range(r):\n",
    "        print(r, end='')\n",
    "    print()   "
   ]
  },
  {
   "cell_type": "code",
   "execution_count": 6,
   "metadata": {},
   "outputs": [
    {
     "name": "stdout",
     "output_type": "stream",
     "text": [
      "1\n",
      "12\n",
      "123\n",
      "1234\n",
      "12345\n"
     ]
    }
   ],
   "source": [
    "'''\n",
    "1 \n",
    "\n",
    "12 \n",
    "\n",
    "123 \n",
    "\n",
    "1234 \n",
    "\n",
    "12345\n",
    "'''\n",
    "\n",
    "for r in range(1, 6):\n",
    "    for c in range(1, r+1):\n",
    "        print(c, end='')\n",
    "    print()   "
   ]
  },
  {
   "cell_type": "code",
   "execution_count": 9,
   "metadata": {},
   "outputs": [
    {
     "name": "stdout",
     "output_type": "stream",
     "text": [
      "55555\n",
      "4444\n",
      "333\n",
      "22\n",
      "1\n"
     ]
    }
   ],
   "source": [
    "'''\n",
    "55555 \n",
    "\n",
    "4444 \n",
    "\n",
    "333 \n",
    "\n",
    "22 \n",
    "\n",
    "1\n",
    "'''\n",
    "\n",
    "\n",
    "for r in range(5, 0, -1):\n",
    "    for c in range(r):\n",
    "        print(r, end = '')\n",
    "\n",
    "    print()    "
   ]
  },
  {
   "cell_type": "code",
   "execution_count": null,
   "metadata": {},
   "outputs": [],
   "source": [
    "'''\n",
    "54321 \n",
    "\n",
    "4321 \n",
    "\n",
    "321 \n",
    "\n",
    "21 \n",
    "\n",
    "1\n",
    "'''"
   ]
  },
  {
   "cell_type": "code",
   "execution_count": 10,
   "metadata": {},
   "outputs": [
    {
     "name": "stdout",
     "output_type": "stream",
     "text": [
      "18446744073709551615\n"
     ]
    }
   ],
   "source": [
    "sum = 0\n",
    "for i in range(64):\n",
    "\tsum = sum + 2**i\n",
    "\n",
    "print(sum)    "
   ]
  },
  {
   "cell_type": "code",
   "execution_count": 4,
   "metadata": {},
   "outputs": [
    {
     "name": "stdout",
     "output_type": "stream",
     "text": [
      "Numbers from 1 to 20 which are not divisible by 2,3,or 5\n",
      "1\n",
      "\n",
      "\n",
      "\n",
      "\n",
      "\n",
      "7\n",
      "\n",
      "\n",
      "\n",
      "11\n",
      "\n",
      "13\n",
      "\n",
      "\n",
      "\n",
      "17\n",
      "\n",
      "19\n",
      "Sum of Even numbers from 1 to 10 is =  68\n"
     ]
    }
   ],
   "source": [
    "sm=0\n",
    "print(\"Numbers from 1 to 20 which are not divisible by 2,3,or 5\")\n",
    "\n",
    "for i in range(1,20):\n",
    "     if i%2==0 or i%3==0 or i%5==0:\n",
    "         print(\"\")\n",
    "     else:\n",
    "         print(i)\n",
    "         sm += i\n",
    "print(\"Sum of Even numbers from 1 to 10 is = \",sm)"
   ]
  },
  {
   "cell_type": "code",
   "execution_count": null,
   "metadata": {},
   "outputs": [],
   "source": []
  }
 ],
 "metadata": {
  "colab": {
   "collapsed_sections": [],
   "name": "Session 4 - For Loop",
   "provenance": []
  },
  "interpreter": {
   "hash": "d8170c110657fe2404806e39cd19d1069764f0900149c4bfcf5e0c7a3bba27ab"
  },
  "kernelspec": {
   "display_name": "Python 3 (ipykernel)",
   "language": "python",
   "name": "python3"
  },
  "language_info": {
   "codemirror_mode": {
    "name": "ipython",
    "version": 3
   },
   "file_extension": ".py",
   "mimetype": "text/x-python",
   "name": "python",
   "nbconvert_exporter": "python",
   "pygments_lexer": "ipython3",
   "version": "3.9.7"
  }
 },
 "nbformat": 4,
 "nbformat_minor": 2
}
